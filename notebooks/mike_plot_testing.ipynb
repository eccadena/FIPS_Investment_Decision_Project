{
 "cells": [
  {
   "cell_type": "code",
   "execution_count": 2,
   "metadata": {},
   "outputs": [],
   "source": [
    "from pathlib import Path\n",
    "import json\n",
    "import pandas as pd\n",
    "import plotly.graph_objects as go\n",
    "import geopandas as gp\n"
   ]
  },
  {
   "cell_type": "code",
   "execution_count": 3,
   "metadata": {},
   "outputs": [
    {
     "data": {
      "text/plain": [
       "(5259, 399)"
      ]
     },
     "execution_count": 3,
     "metadata": {},
     "output_type": "execute_result"
    }
   ],
   "source": [
    "df = gp.read_file('../data/rawdata/tracts.json')\n",
    "df.shape\n",
    "#     tracts = json.load(response)"
   ]
  },
  {
   "cell_type": "code",
   "execution_count": 8,
   "metadata": {},
   "outputs": [
    {
     "data": {
      "text/html": [
       "<div>\n",
       "<style scoped>\n",
       "    .dataframe tbody tr th:only-of-type {\n",
       "        vertical-align: middle;\n",
       "    }\n",
       "\n",
       "    .dataframe tbody tr th {\n",
       "        vertical-align: top;\n",
       "    }\n",
       "\n",
       "    .dataframe thead th {\n",
       "        text-align: right;\n",
       "    }\n",
       "</style>\n",
       "<table border=\"1\" class=\"dataframe\">\n",
       "  <thead>\n",
       "    <tr style=\"text-align: right;\">\n",
       "      <th></th>\n",
       "      <th>GEOID</th>\n",
       "      <th>west</th>\n",
       "      <th>south</th>\n",
       "      <th>east</th>\n",
       "      <th>north</th>\n",
       "      <th>n</th>\n",
       "      <th>pl</th>\n",
       "      <th>p-00</th>\n",
       "      <th>pr-00</th>\n",
       "      <th>roh-00</th>\n",
       "      <th>...</th>\n",
       "      <th>pm-16</th>\n",
       "      <th>po-16</th>\n",
       "      <th>ef-16</th>\n",
       "      <th>e-16</th>\n",
       "      <th>er-16</th>\n",
       "      <th>efr-16</th>\n",
       "      <th>lf-16</th>\n",
       "      <th>imputed-16</th>\n",
       "      <th>subbed-16</th>\n",
       "      <th>geometry</th>\n",
       "    </tr>\n",
       "  </thead>\n",
       "  <tbody>\n",
       "    <tr>\n",
       "      <th>0</th>\n",
       "      <td>48201100000</td>\n",
       "      <td>-95.3746</td>\n",
       "      <td>29.7449</td>\n",
       "      <td>-95.3477</td>\n",
       "      <td>29.7706</td>\n",
       "      <td>1000</td>\n",
       "      <td>Harris County, Texas</td>\n",
       "      <td>6678.33</td>\n",
       "      <td>40.41</td>\n",
       "      <td>1091.0</td>\n",
       "      <td>...</td>\n",
       "      <td>1.83</td>\n",
       "      <td>0.00</td>\n",
       "      <td>101.0</td>\n",
       "      <td>47.0</td>\n",
       "      <td>3.02</td>\n",
       "      <td>6.50</td>\n",
       "      <td>1.0</td>\n",
       "      <td>0.0</td>\n",
       "      <td>0.0</td>\n",
       "      <td>(POLYGON ((-95.374493 29.752879, -95.374540999...</td>\n",
       "    </tr>\n",
       "    <tr>\n",
       "      <th>1</th>\n",
       "      <td>48201210900</td>\n",
       "      <td>-95.3401</td>\n",
       "      <td>29.8001</td>\n",
       "      <td>-95.3241</td>\n",
       "      <td>29.8091</td>\n",
       "      <td>2109</td>\n",
       "      <td>Harris County, Texas</td>\n",
       "      <td>1829.00</td>\n",
       "      <td>31.40</td>\n",
       "      <td>299.0</td>\n",
       "      <td>...</td>\n",
       "      <td>1.42</td>\n",
       "      <td>0.47</td>\n",
       "      <td>23.0</td>\n",
       "      <td>19.0</td>\n",
       "      <td>5.90</td>\n",
       "      <td>7.14</td>\n",
       "      <td>1.0</td>\n",
       "      <td>0.0</td>\n",
       "      <td>0.0</td>\n",
       "      <td>(POLYGON ((-95.32422699999999 29.809072, -95.3...</td>\n",
       "    </tr>\n",
       "    <tr>\n",
       "      <th>2</th>\n",
       "      <td>48201211000</td>\n",
       "      <td>-95.3401</td>\n",
       "      <td>29.7937</td>\n",
       "      <td>-95.3240</td>\n",
       "      <td>29.8015</td>\n",
       "      <td>2110</td>\n",
       "      <td>Harris County, Texas</td>\n",
       "      <td>2178.00</td>\n",
       "      <td>43.80</td>\n",
       "      <td>473.0</td>\n",
       "      <td>...</td>\n",
       "      <td>0.00</td>\n",
       "      <td>0.00</td>\n",
       "      <td>26.0</td>\n",
       "      <td>14.0</td>\n",
       "      <td>2.73</td>\n",
       "      <td>5.08</td>\n",
       "      <td>1.0</td>\n",
       "      <td>0.0</td>\n",
       "      <td>0.0</td>\n",
       "      <td>(POLYGON ((-95.32399700000001 29.793951, -95.3...</td>\n",
       "    </tr>\n",
       "    <tr>\n",
       "      <th>3</th>\n",
       "      <td>48201211600</td>\n",
       "      <td>-95.3159</td>\n",
       "      <td>29.7744</td>\n",
       "      <td>-95.3074</td>\n",
       "      <td>29.7875</td>\n",
       "      <td>2116</td>\n",
       "      <td>Harris County, Texas</td>\n",
       "      <td>3302.00</td>\n",
       "      <td>23.45</td>\n",
       "      <td>379.0</td>\n",
       "      <td>...</td>\n",
       "      <td>0.83</td>\n",
       "      <td>1.52</td>\n",
       "      <td>20.0</td>\n",
       "      <td>16.0</td>\n",
       "      <td>3.82</td>\n",
       "      <td>4.77</td>\n",
       "      <td>1.0</td>\n",
       "      <td>0.0</td>\n",
       "      <td>0.0</td>\n",
       "      <td>(POLYGON ((-95.31591299999999 29.786763, -95.3...</td>\n",
       "    </tr>\n",
       "    <tr>\n",
       "      <th>4</th>\n",
       "      <td>48201211900</td>\n",
       "      <td>-95.3074</td>\n",
       "      <td>29.7800</td>\n",
       "      <td>-95.2917</td>\n",
       "      <td>29.7876</td>\n",
       "      <td>2119</td>\n",
       "      <td>Harris County, Texas</td>\n",
       "      <td>6424.00</td>\n",
       "      <td>28.20</td>\n",
       "      <td>513.0</td>\n",
       "      <td>...</td>\n",
       "      <td>0.00</td>\n",
       "      <td>0.00</td>\n",
       "      <td>5.0</td>\n",
       "      <td>5.0</td>\n",
       "      <td>0.79</td>\n",
       "      <td>0.79</td>\n",
       "      <td>1.0</td>\n",
       "      <td>0.0</td>\n",
       "      <td>0.0</td>\n",
       "      <td>(POLYGON ((-95.307382 29.780137, -95.307382 29...</td>\n",
       "    </tr>\n",
       "  </tbody>\n",
       "</table>\n",
       "<p>5 rows × 399 columns</p>\n",
       "</div>"
      ],
      "text/plain": [
       "         GEOID     west    south     east    north     n  \\\n",
       "0  48201100000 -95.3746  29.7449 -95.3477  29.7706  1000   \n",
       "1  48201210900 -95.3401  29.8001 -95.3241  29.8091  2109   \n",
       "2  48201211000 -95.3401  29.7937 -95.3240  29.8015  2110   \n",
       "3  48201211600 -95.3159  29.7744 -95.3074  29.7875  2116   \n",
       "4  48201211900 -95.3074  29.7800 -95.2917  29.7876  2119   \n",
       "\n",
       "                     pl     p-00  pr-00  roh-00  ...  pm-16  po-16  ef-16  \\\n",
       "0  Harris County, Texas  6678.33  40.41  1091.0  ...   1.83   0.00  101.0   \n",
       "1  Harris County, Texas  1829.00  31.40   299.0  ...   1.42   0.47   23.0   \n",
       "2  Harris County, Texas  2178.00  43.80   473.0  ...   0.00   0.00   26.0   \n",
       "3  Harris County, Texas  3302.00  23.45   379.0  ...   0.83   1.52   20.0   \n",
       "4  Harris County, Texas  6424.00  28.20   513.0  ...   0.00   0.00    5.0   \n",
       "\n",
       "   e-16  er-16  efr-16  lf-16  imputed-16  subbed-16  \\\n",
       "0  47.0   3.02    6.50    1.0         0.0        0.0   \n",
       "1  19.0   5.90    7.14    1.0         0.0        0.0   \n",
       "2  14.0   2.73    5.08    1.0         0.0        0.0   \n",
       "3  16.0   3.82    4.77    1.0         0.0        0.0   \n",
       "4   5.0   0.79    0.79    1.0         0.0        0.0   \n",
       "\n",
       "                                            geometry  \n",
       "0  (POLYGON ((-95.374493 29.752879, -95.374540999...  \n",
       "1  (POLYGON ((-95.32422699999999 29.809072, -95.3...  \n",
       "2  (POLYGON ((-95.32399700000001 29.793951, -95.3...  \n",
       "3  (POLYGON ((-95.31591299999999 29.786763, -95.3...  \n",
       "4  (POLYGON ((-95.307382 29.780137, -95.307382 29...  \n",
       "\n",
       "[5 rows x 399 columns]"
      ]
     },
     "execution_count": 8,
     "metadata": {},
     "output_type": "execute_result"
    }
   ],
   "source": [
    "df_harris = df[df.GEOID.str.startswith('48201')]\n",
    "df_harris.index = range(len(df_harris))\n",
    "df_harris.head()\n"
   ]
  },
  {
   "cell_type": "code",
   "execution_count": 7,
   "metadata": {},
   "outputs": [
    {
     "ename": "SyntaxError",
     "evalue": "invalid syntax (<ipython-input-7-c5f0bedfcbf4>, line 1)",
     "output_type": "error",
     "traceback": [
      "\u001b[1;36m  File \u001b[1;32m\"<ipython-input-7-c5f0bedfcbf4>\"\u001b[1;36m, line \u001b[1;32m1\u001b[0m\n\u001b[1;33m    import chart_studio from plotly as py_chart\u001b[0m\n\u001b[1;37m                           ^\u001b[0m\n\u001b[1;31mSyntaxError\u001b[0m\u001b[1;31m:\u001b[0m invalid syntax\n"
     ]
    }
   ],
   "source": [
    "df_harris.to_json(r'../data/cleandata/flood_100yr_clean.csv', index=False)"
   ]
  },
  {
   "cell_type": "code",
   "execution_count": 21,
   "metadata": {},
   "outputs": [],
   "source": [
    "# fig = go.Figure(go.Choroplethmapbox(geojson=tracts, locations=df.FIPS, z=df.SVI_INDEX,\n",
    "#                                     colorscale=\"Viridis\", zmin=0, zmax=1,\n",
    "#                                     marker_opacity=0.5, marker_line_width=0))"
   ]
  },
  {
   "cell_type": "code",
   "execution_count": 22,
   "metadata": {},
   "outputs": [],
   "source": [
    "# fig.update_layout(mapbox_style=\"carto-positron\",\n",
    "#                   mapbox_zoom=6, mapbox_center = {\"lat\": 29.741482, \"lon\": -95.382297})"
   ]
  },
  {
   "cell_type": "code",
   "execution_count": null,
   "metadata": {},
   "outputs": [],
   "source": []
  },
  {
   "cell_type": "code",
   "execution_count": null,
   "metadata": {},
   "outputs": [],
   "source": [
    "#fig.update_layout(margin={\"r\":0,\"t\":0,\"l\":0,\"b\":0})"
   ]
  },
  {
   "cell_type": "code",
   "execution_count": null,
   "metadata": {},
   "outputs": [],
   "source": [
    "#fig.show()"
   ]
  },
  {
   "cell_type": "code",
   "execution_count": null,
   "metadata": {},
   "outputs": [],
   "source": []
  },
  {
   "cell_type": "code",
   "execution_count": null,
   "metadata": {},
   "outputs": [],
   "source": []
  }
 ],
 "metadata": {
  "kernelspec": {
   "display_name": "Python 3",
   "language": "python",
   "name": "python3"
  },
  "language_info": {
   "codemirror_mode": {
    "name": "ipython",
    "version": 3
   },
   "file_extension": ".py",
   "mimetype": "text/x-python",
   "name": "python",
   "nbconvert_exporter": "python",
   "pygments_lexer": "ipython3",
   "version": "3.7.3"
  }
 },
 "nbformat": 4,
 "nbformat_minor": 4
}
