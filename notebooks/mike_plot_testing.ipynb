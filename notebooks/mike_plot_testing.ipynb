{
 "cells": [
  {
   "cell_type": "code",
   "execution_count": 1,
   "metadata": {},
   "outputs": [],
   "source": [
    "from pathlib import Path\n",
    "import json\n",
    "import pandas as pd\n",
    "import plotly.graph_objects as go\n",
    "import geopandas as gp\n"
   ]
  },
  {
   "cell_type": "code",
   "execution_count": 2,
   "metadata": {},
   "outputs": [
    {
     "data": {
      "text/html": [
       "<div>\n",
       "<style scoped>\n",
       "    .dataframe tbody tr th:only-of-type {\n",
       "        vertical-align: middle;\n",
       "    }\n",
       "\n",
       "    .dataframe tbody tr th {\n",
       "        vertical-align: top;\n",
       "    }\n",
       "\n",
       "    .dataframe thead th {\n",
       "        text-align: right;\n",
       "    }\n",
       "</style>\n",
       "<table border=\"1\" class=\"dataframe\">\n",
       "  <thead>\n",
       "    <tr style=\"text-align: right;\">\n",
       "      <th></th>\n",
       "      <th>GEOID</th>\n",
       "      <th>west</th>\n",
       "      <th>south</th>\n",
       "      <th>east</th>\n",
       "      <th>north</th>\n",
       "      <th>n</th>\n",
       "      <th>pl</th>\n",
       "      <th>p-00</th>\n",
       "      <th>pr-00</th>\n",
       "      <th>roh-00</th>\n",
       "      <th>...</th>\n",
       "      <th>pm-16</th>\n",
       "      <th>po-16</th>\n",
       "      <th>ef-16</th>\n",
       "      <th>e-16</th>\n",
       "      <th>er-16</th>\n",
       "      <th>efr-16</th>\n",
       "      <th>lf-16</th>\n",
       "      <th>imputed-16</th>\n",
       "      <th>subbed-16</th>\n",
       "      <th>geometry</th>\n",
       "    </tr>\n",
       "  </thead>\n",
       "  <tbody>\n",
       "    <tr>\n",
       "      <th>5254</th>\n",
       "      <td>48347950302</td>\n",
       "      <td>-94.7363</td>\n",
       "      <td>31.3986</td>\n",
       "      <td>-94.5102</td>\n",
       "      <td>31.5897</td>\n",
       "      <td>9503.02</td>\n",
       "      <td>Nacogdoches County, Texas</td>\n",
       "      <td>6401.0</td>\n",
       "      <td>14.74</td>\n",
       "      <td>477.0</td>\n",
       "      <td>...</td>\n",
       "      <td>1.55</td>\n",
       "      <td>0.0</td>\n",
       "      <td>8.0</td>\n",
       "      <td>8.0</td>\n",
       "      <td>0.99</td>\n",
       "      <td>0.99</td>\n",
       "      <td>1.0</td>\n",
       "      <td>0.0</td>\n",
       "      <td>0.0</td>\n",
       "      <td>(POLYGON ((-94.522599 31.565894, -94.523274 31...</td>\n",
       "    </tr>\n",
       "    <tr>\n",
       "      <th>5255</th>\n",
       "      <td>48381020200</td>\n",
       "      <td>-101.9023</td>\n",
       "      <td>35.1764</td>\n",
       "      <td>-101.8840</td>\n",
       "      <td>35.1831</td>\n",
       "      <td>202</td>\n",
       "      <td>Randall County, Texas</td>\n",
       "      <td>2284.0</td>\n",
       "      <td>4.66</td>\n",
       "      <td>413.0</td>\n",
       "      <td>...</td>\n",
       "      <td>6.57</td>\n",
       "      <td>0.0</td>\n",
       "      <td>NaN</td>\n",
       "      <td>NaN</td>\n",
       "      <td>NaN</td>\n",
       "      <td>NaN</td>\n",
       "      <td>0.0</td>\n",
       "      <td>0.0</td>\n",
       "      <td>0.0</td>\n",
       "      <td>(POLYGON ((-101.883958 35.176382, -101.893071 ...</td>\n",
       "    </tr>\n",
       "    <tr>\n",
       "      <th>5256</th>\n",
       "      <td>48453001307</td>\n",
       "      <td>-97.7766</td>\n",
       "      <td>30.2262</td>\n",
       "      <td>-97.7596</td>\n",
       "      <td>30.2460</td>\n",
       "      <td>13.07</td>\n",
       "      <td>Travis County, Texas</td>\n",
       "      <td>3901.0</td>\n",
       "      <td>18.06</td>\n",
       "      <td>1182.0</td>\n",
       "      <td>...</td>\n",
       "      <td>1.45</td>\n",
       "      <td>0.0</td>\n",
       "      <td>10.0</td>\n",
       "      <td>6.0</td>\n",
       "      <td>0.41</td>\n",
       "      <td>0.69</td>\n",
       "      <td>1.0</td>\n",
       "      <td>0.0</td>\n",
       "      <td>0.0</td>\n",
       "      <td>(POLYGON ((-97.773096 30.237401, -97.77139 30....</td>\n",
       "    </tr>\n",
       "    <tr>\n",
       "      <th>5257</th>\n",
       "      <td>48485012700</td>\n",
       "      <td>-98.5473</td>\n",
       "      <td>33.8804</td>\n",
       "      <td>-98.5245</td>\n",
       "      <td>33.8977</td>\n",
       "      <td>127</td>\n",
       "      <td>Wichita County, Texas</td>\n",
       "      <td>2570.0</td>\n",
       "      <td>12.10</td>\n",
       "      <td>387.0</td>\n",
       "      <td>...</td>\n",
       "      <td>1.86</td>\n",
       "      <td>0.0</td>\n",
       "      <td>NaN</td>\n",
       "      <td>NaN</td>\n",
       "      <td>NaN</td>\n",
       "      <td>NaN</td>\n",
       "      <td>0.0</td>\n",
       "      <td>0.0</td>\n",
       "      <td>0.0</td>\n",
       "      <td>(POLYGON ((-98.547258 33.890405, -98.538342 33...</td>\n",
       "    </tr>\n",
       "    <tr>\n",
       "      <th>5258</th>\n",
       "      <td>48029110800</td>\n",
       "      <td>-98.4994</td>\n",
       "      <td>29.4358</td>\n",
       "      <td>-98.4859</td>\n",
       "      <td>29.4470</td>\n",
       "      <td>1108</td>\n",
       "      <td>Bexar County, Texas</td>\n",
       "      <td>2577.0</td>\n",
       "      <td>26.32</td>\n",
       "      <td>908.0</td>\n",
       "      <td>...</td>\n",
       "      <td>0.16</td>\n",
       "      <td>0.0</td>\n",
       "      <td>59.0</td>\n",
       "      <td>50.0</td>\n",
       "      <td>6.03</td>\n",
       "      <td>7.12</td>\n",
       "      <td>1.0</td>\n",
       "      <td>0.0</td>\n",
       "      <td>0.0</td>\n",
       "      <td>(POLYGON ((-98.49935600000001 29.44703, -98.49...</td>\n",
       "    </tr>\n",
       "  </tbody>\n",
       "</table>\n",
       "<p>5 rows × 399 columns</p>\n",
       "</div>"
      ],
      "text/plain": [
       "            GEOID      west    south      east    north        n  \\\n",
       "5254  48347950302  -94.7363  31.3986  -94.5102  31.5897  9503.02   \n",
       "5255  48381020200 -101.9023  35.1764 -101.8840  35.1831      202   \n",
       "5256  48453001307  -97.7766  30.2262  -97.7596  30.2460    13.07   \n",
       "5257  48485012700  -98.5473  33.8804  -98.5245  33.8977      127   \n",
       "5258  48029110800  -98.4994  29.4358  -98.4859  29.4470     1108   \n",
       "\n",
       "                             pl    p-00  pr-00  roh-00  ...  pm-16  po-16  \\\n",
       "5254  Nacogdoches County, Texas  6401.0  14.74   477.0  ...   1.55    0.0   \n",
       "5255      Randall County, Texas  2284.0   4.66   413.0  ...   6.57    0.0   \n",
       "5256       Travis County, Texas  3901.0  18.06  1182.0  ...   1.45    0.0   \n",
       "5257      Wichita County, Texas  2570.0  12.10   387.0  ...   1.86    0.0   \n",
       "5258        Bexar County, Texas  2577.0  26.32   908.0  ...   0.16    0.0   \n",
       "\n",
       "      ef-16  e-16  er-16  efr-16  lf-16  imputed-16  subbed-16  \\\n",
       "5254    8.0   8.0   0.99    0.99    1.0         0.0        0.0   \n",
       "5255    NaN   NaN    NaN     NaN    0.0         0.0        0.0   \n",
       "5256   10.0   6.0   0.41    0.69    1.0         0.0        0.0   \n",
       "5257    NaN   NaN    NaN     NaN    0.0         0.0        0.0   \n",
       "5258   59.0  50.0   6.03    7.12    1.0         0.0        0.0   \n",
       "\n",
       "                                               geometry  \n",
       "5254  (POLYGON ((-94.522599 31.565894, -94.523274 31...  \n",
       "5255  (POLYGON ((-101.883958 35.176382, -101.893071 ...  \n",
       "5256  (POLYGON ((-97.773096 30.237401, -97.77139 30....  \n",
       "5257  (POLYGON ((-98.547258 33.890405, -98.538342 33...  \n",
       "5258  (POLYGON ((-98.49935600000001 29.44703, -98.49...  \n",
       "\n",
       "[5 rows x 399 columns]"
      ]
     },
     "execution_count": 2,
     "metadata": {},
     "output_type": "execute_result"
    }
   ],
   "source": [
    "df = gp.read_file('../data/rawdata/tracts.json')\n",
    "df.tail()\n",
    "#     tracts = json.load(response)"
   ]
  },
  {
   "cell_type": "code",
   "execution_count": 3,
   "metadata": {},
   "outputs": [
    {
     "data": {
      "image/svg+xml": [
       "<svg xmlns=\"http://www.w3.org/2000/svg\" xmlns:xlink=\"http://www.w3.org/1999/xlink\" width=\"100.0\" height=\"100.0\" viewBox=\"-98.48346376 29.55152424 0.028576520000001437 0.03001752000000124\" preserveAspectRatio=\"xMinYMin meet\"><g transform=\"matrix(1,0,0,-1,0,59.133066)\"><g><path fill-rule=\"evenodd\" fill=\"#66cc99\" stroke=\"#555555\" stroke-width=\"0.0006003504000000248\" opacity=\"0.6\" d=\"M -98.465773,29.574198 L -98.459239,29.568749 L -98.459834,29.568154 L -98.455999,29.564422 L -98.458245,29.562239 L -98.461262,29.559286 L -98.463661,29.556925 L -98.467885,29.552636 L -98.471279,29.555178 L -98.472386,29.556935 L -98.480246,29.56324 L -98.482352,29.564832 L -98.479607,29.572766 L -98.478328,29.576419 L -98.478155,29.576929 L -98.477118,29.579908 L -98.476936,29.58043 L -98.474679,29.578796 L -98.472787,29.578009 L -98.467728,29.575745 L -98.465983,29.574402 L -98.465773,29.574198 z\" /></g></g></svg>"
      ],
      "text/plain": [
       "<shapely.geometry.multipolygon.MultiPolygon at 0x2188f535860>"
      ]
     },
     "execution_count": 3,
     "metadata": {},
     "output_type": "execute_result"
    }
   ],
   "source": [
    "df['geometry'][5]\n",
    "# df = pd.read_csv('../data/cleandata/svi_index.csv',\n",
    "#                    dtype={\"FIPS\": str})\n",
    "# df.columns=['FIPS','Socioeconomic','Housing_Disabled','Minority_Lang','Housing_Transport','SVI_INDEX']"
   ]
  },
  {
   "cell_type": "code",
   "execution_count": 7,
   "metadata": {},
   "outputs": [
    {
     "ename": "SyntaxError",
     "evalue": "invalid syntax (<ipython-input-7-c5f0bedfcbf4>, line 1)",
     "output_type": "error",
     "traceback": [
      "\u001b[1;36m  File \u001b[1;32m\"<ipython-input-7-c5f0bedfcbf4>\"\u001b[1;36m, line \u001b[1;32m1\u001b[0m\n\u001b[1;33m    import chart_studio from plotly as py_chart\u001b[0m\n\u001b[1;37m                           ^\u001b[0m\n\u001b[1;31mSyntaxError\u001b[0m\u001b[1;31m:\u001b[0m invalid syntax\n"
     ]
    }
   ],
   "source": [
    "import chart_studio from plotly as py_chart"
   ]
  },
  {
   "cell_type": "code",
   "execution_count": 21,
   "metadata": {},
   "outputs": [],
   "source": [
    "# fig = go.Figure(go.Choroplethmapbox(geojson=tracts, locations=df.FIPS, z=df.SVI_INDEX,\n",
    "#                                     colorscale=\"Viridis\", zmin=0, zmax=1,\n",
    "#                                     marker_opacity=0.5, marker_line_width=0))"
   ]
  },
  {
   "cell_type": "code",
   "execution_count": 22,
   "metadata": {},
   "outputs": [],
   "source": [
    "# fig.update_layout(mapbox_style=\"carto-positron\",\n",
    "#                   mapbox_zoom=6, mapbox_center = {\"lat\": 29.741482, \"lon\": -95.382297})"
   ]
  },
  {
   "cell_type": "code",
   "execution_count": null,
   "metadata": {},
   "outputs": [],
   "source": []
  },
  {
   "cell_type": "code",
   "execution_count": null,
   "metadata": {},
   "outputs": [],
   "source": [
    "#fig.update_layout(margin={\"r\":0,\"t\":0,\"l\":0,\"b\":0})"
   ]
  },
  {
   "cell_type": "code",
   "execution_count": null,
   "metadata": {},
   "outputs": [],
   "source": [
    "#fig.show()"
   ]
  },
  {
   "cell_type": "code",
   "execution_count": null,
   "metadata": {},
   "outputs": [],
   "source": []
  },
  {
   "cell_type": "code",
   "execution_count": null,
   "metadata": {},
   "outputs": [],
   "source": []
  }
 ],
 "metadata": {
  "kernelspec": {
   "display_name": "Python 3",
   "language": "python",
   "name": "python3"
  },
  "language_info": {
   "codemirror_mode": {
    "name": "ipython",
    "version": 3
   },
   "file_extension": ".py",
   "mimetype": "text/x-python",
   "name": "python",
   "nbconvert_exporter": "python",
   "pygments_lexer": "ipython3",
   "version": "3.7.3"
  }
 },
 "nbformat": 4,
 "nbformat_minor": 4
}
