{
 "cells": [
  {
   "cell_type": "code",
   "execution_count": 94,
   "metadata": {},
   "outputs": [],
   "source": [
    "#Mikes code for chloropleth"
   ]
  },
  {
   "cell_type": "code",
   "execution_count": 95,
   "metadata": {},
   "outputs": [
    {
     "ename": "FileNotFoundError",
     "evalue": "[Errno 2] No such file or directory: '../data/cleandata/harris_co_clean.geojson'",
     "output_type": "error",
     "traceback": [
      "\u001b[1;31m---------------------------------------------------------------------------\u001b[0m",
      "\u001b[1;31mFileNotFoundError\u001b[0m                         Traceback (most recent call last)",
      "\u001b[1;32m<ipython-input-95-318503f2ef76>\u001b[0m in \u001b[0;36m<module>\u001b[1;34m\u001b[0m\n\u001b[0;32m      8\u001b[0m \u001b[1;32mimport\u001b[0m \u001b[0mpandas\u001b[0m \u001b[1;32mas\u001b[0m \u001b[0mpd\u001b[0m\u001b[1;33m\u001b[0m\u001b[1;33m\u001b[0m\u001b[0m\n\u001b[0;32m      9\u001b[0m \u001b[1;32mimport\u001b[0m \u001b[0mfiona\u001b[0m\u001b[1;33m\u001b[0m\u001b[1;33m\u001b[0m\u001b[0m\n\u001b[1;32m---> 10\u001b[1;33m \u001b[1;32mwith\u001b[0m \u001b[0mopen\u001b[0m\u001b[1;33m(\u001b[0m\u001b[1;34m'../data/cleandata/harris_co_clean.geojson'\u001b[0m\u001b[1;33m)\u001b[0m \u001b[1;32mas\u001b[0m \u001b[0mresponse\u001b[0m\u001b[1;33m:\u001b[0m\u001b[1;33m\u001b[0m\u001b[1;33m\u001b[0m\u001b[0m\n\u001b[0m\u001b[0;32m     11\u001b[0m    \u001b[0mtracts_data\u001b[0m \u001b[1;33m=\u001b[0m \u001b[0mjson\u001b[0m\u001b[1;33m.\u001b[0m\u001b[0mload\u001b[0m\u001b[1;33m(\u001b[0m\u001b[0mresponse\u001b[0m\u001b[1;33m)\u001b[0m\u001b[1;33m\u001b[0m\u001b[1;33m\u001b[0m\u001b[0m\n\u001b[0;32m     12\u001b[0m \u001b[1;33m\u001b[0m\u001b[0m\n",
      "\u001b[1;31mFileNotFoundError\u001b[0m: [Errno 2] No such file or directory: '../data/cleandata/harris_co_clean.geojson'"
     ]
    }
   ],
   "source": [
    "import os\n",
    "import folium\n",
    "import urllib\n",
    "from urllib.request import urlopen\n",
    "import json\n",
    "import geopandas as gp\n",
    "from pathlib import Path\n",
    "import pandas as pd\n",
    "import fiona\n",
    "with open('../data/cleandata/harris_co_clean.geojson') as response:\n",
    "   tracts_data = json.load(response)\n",
    "    \n",
    "school_df = pd.read_csv('../data/cleandata/school_ratings_data.csv',dtype={\"FIPS\": str})\n",
    "school_df = school_df[['FIPS','Rating']]\n",
    "ratings_map = folium.Map([29.7604, -95.358421], zoom_start=10)\n",
    "folium.Choropleth(\n",
    "   geo_data=tracts_data,\n",
    "   name='choropleth',\n",
    "   data=school_df,\n",
    "   columns=['FIPS', 'Rating'],\n",
    "   key_on='feature.properties.FIPS',\n",
    "   fill_color='YlGn',\n",
    "   fill_opacity=0.7,\n",
    "   line_opacity=0.2,\n",
    "   nan_fill_color='white',\n",
    "   nan_fill_opacity=0.3,\n",
    "   legend_name='School Ratings'\n",
    ").add_to(ratings_map)\n",
    "#m.save(os.path.join('harris_co_choropleth_3.html'))\n",
    "ratings_map"
   ]
  },
  {
   "cell_type": "code",
   "execution_count": null,
   "metadata": {},
   "outputs": [],
   "source": []
  }
 ],
 "metadata": {
  "kernelspec": {
   "display_name": "Python 3",
   "language": "python",
   "name": "python3"
  },
  "language_info": {
   "codemirror_mode": {
    "name": "ipython",
    "version": 3
   },
   "file_extension": ".py",
   "mimetype": "text/x-python",
   "name": "python",
   "nbconvert_exporter": "python",
   "pygments_lexer": "ipython3",
   "version": "3.7.3"
  }
 },
 "nbformat": 4,
 "nbformat_minor": 4
}
