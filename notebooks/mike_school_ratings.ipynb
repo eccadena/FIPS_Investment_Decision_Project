{
 "cells": [
  {
   "cell_type": "code",
   "execution_count": 52,
   "metadata": {},
   "outputs": [],
   "source": [
    "import requests\n",
    "from bs4 import BeautifulSoup as bs\n",
    "from selenium import webdriver\n",
    "import time\n",
    "import pandas as pd\n",
    "import json"
   ]
  },
  {
   "cell_type": "code",
   "execution_count": 11,
   "metadata": {},
   "outputs": [],
   "source": [
    "#need to install the chromedriver.exe in the Anaconda3/scripts folder or you will get a path error\n",
    "driver = webdriver.Chrome()\n",
    "\n",
    "#fetch url with selenium using chrome looping through to page 18, after that there are no school ratings\n",
    "school_name_list = []\n",
    "school_street_list = []\n",
    "school_zip_list = []\n",
    "school_city_list = []\n",
    "school_rating_list = []\n",
    "page_num = 1\n",
    "\n",
    "while page_num < 19:\n",
    "#setting url to get school ratings table that we will scrape.  Will iterate using page_num\n",
    "    url = f\"https://www.greatschools.org/search/search.page?gradeLevels%5B%5D=e&q=houston%20tx&sort=rating&view=table&page={page_num}\"\n",
    "    driver.get(url)\n",
    "    \n",
    "#using sleep to ensure page is fully loaded each loop before attempting to scrape    \n",
    "    time.sleep(8)\n",
    "\n",
    "#returning selenium html and then switching to beautiful soup\n",
    "    innerHTML = driver.execute_script(\"return document.body.innerHTML\")\n",
    "    \n",
    "    soup = bs(innerHTML,'lxml')\n",
    "    \n",
    "#limiting to 25 because the page is duplicating the html then hiding one set.  Was getting 50 out of 25 results\n",
    "\n",
    "    school_name = soup.find_all('a', class_ ='name',limit=25)\n",
    "    school_street_zip = soup.find_all('div', class_ ='address',limit=25)\n",
    "    school_rating = soup.find_all('div', class_ ='circle-rating--small',limit=25)\n",
    "    \n",
    "#looping through the above to get text from each element and append to lists\n",
    "\n",
    "    for name in school_name:\n",
    "        name = name.text\n",
    "        school_name_list.append(name)\n",
    "        \n",
    "    for street in school_street_zip:\n",
    "        street = street.text\n",
    "        school_street_list.append(street[:-20])\n",
    "        \n",
    "    for zipcode in school_street_zip:\n",
    "        zipcode = zipcode.text\n",
    "        school_zip_list.append(zipcode[-5:])\n",
    "    \n",
    "    for city in school_street_zip:\n",
    "        city = city.text\n",
    "        school_city_list.append(city[-18:-11])\n",
    "        \n",
    "    for rating in school_rating:\n",
    "        rating = rating.text\n",
    "        school_rating_list.append(rating[:-3])\n",
    "    \n",
    "    page_num += 1\n"
   ]
  },
  {
   "cell_type": "code",
   "execution_count": 28,
   "metadata": {},
   "outputs": [
    {
     "name": "stdout",
     "output_type": "stream",
     "text": [
      "450\n"
     ]
    }
   ],
   "source": [
    "# print len to check if scrape worked properly\n",
    "print(len(school_city_list))\n",
    "#,school_street_list,school_zip_list,school_rating_list))"
   ]
  },
  {
   "cell_type": "code",
   "execution_count": null,
   "metadata": {},
   "outputs": [],
   "source": []
  },
  {
   "cell_type": "code",
   "execution_count": 221,
   "metadata": {},
   "outputs": [
    {
     "data": {
      "text/html": [
       "<div>\n",
       "<style scoped>\n",
       "    .dataframe tbody tr th:only-of-type {\n",
       "        vertical-align: middle;\n",
       "    }\n",
       "\n",
       "    .dataframe tbody tr th {\n",
       "        vertical-align: top;\n",
       "    }\n",
       "\n",
       "    .dataframe thead th {\n",
       "        text-align: right;\n",
       "    }\n",
       "</style>\n",
       "<table border=\"1\" class=\"dataframe\">\n",
       "  <thead>\n",
       "    <tr style=\"text-align: right;\">\n",
       "      <th></th>\n",
       "      <th>School</th>\n",
       "      <th>Street</th>\n",
       "      <th>Zip</th>\n",
       "      <th>City</th>\n",
       "      <th>Rating</th>\n",
       "    </tr>\n",
       "  </thead>\n",
       "  <tbody>\n",
       "    <tr>\n",
       "      <th>439</th>\n",
       "      <td>Cook Jr Elementary School</td>\n",
       "      <td>7115 Lockwood Drive</td>\n",
       "      <td>77016</td>\n",
       "      <td>Houston</td>\n",
       "      <td>2</td>\n",
       "    </tr>\n",
       "    <tr>\n",
       "      <th>440</th>\n",
       "      <td>Admin Services</td>\n",
       "      <td>4250 Cook Road</td>\n",
       "      <td>77072</td>\n",
       "      <td>Houston</td>\n",
       "      <td>1</td>\n",
       "    </tr>\n",
       "    <tr>\n",
       "      <th>441</th>\n",
       "      <td>Sneed Elementary School</td>\n",
       "      <td>9855 Pagewood Lane</td>\n",
       "      <td>77042</td>\n",
       "      <td>Houston</td>\n",
       "      <td>1</td>\n",
       "    </tr>\n",
       "    <tr>\n",
       "      <th>442</th>\n",
       "      <td>Highland Hts Elementary School</td>\n",
       "      <td>865 Paul Quinn Street</td>\n",
       "      <td>77091</td>\n",
       "      <td>Houston</td>\n",
       "      <td>1</td>\n",
       "    </tr>\n",
       "    <tr>\n",
       "      <th>443</th>\n",
       "      <td>Pro-Vision Middle</td>\n",
       "      <td>4590 Wilmington Street</td>\n",
       "      <td>77051</td>\n",
       "      <td>Houston</td>\n",
       "      <td>1</td>\n",
       "    </tr>\n",
       "  </tbody>\n",
       "</table>\n",
       "</div>"
      ],
      "text/plain": [
       "                             School                  Street    Zip     City  \\\n",
       "439       Cook Jr Elementary School     7115 Lockwood Drive  77016  Houston   \n",
       "440                  Admin Services          4250 Cook Road  77072  Houston   \n",
       "441         Sneed Elementary School      9855 Pagewood Lane  77042  Houston   \n",
       "442  Highland Hts Elementary School   865 Paul Quinn Street  77091  Houston   \n",
       "443               Pro-Vision Middle  4590 Wilmington Street  77051  Houston   \n",
       "\n",
       "     Rating  \n",
       "439       2  \n",
       "440       1  \n",
       "441       1  \n",
       "442       1  \n",
       "443       1  "
      ]
     },
     "execution_count": 221,
     "metadata": {},
     "output_type": "execute_result"
    }
   ],
   "source": [
    "schools_dict = {'School':pd.Series(school_name_list),'Street':pd.Series(school_street_list),'Zip':pd.Series(school_zip_list),'City':pd.Series(school_city_list),'Rating':pd.Series(school_rating_list).astype(int)}\n",
    "schools_df = pd.DataFrame(schools_dict)\n",
    "#dropping last 6 rows because they did not have ratings\n",
    "schools_df = schools_df[:-6]\n",
    "#remove where city != Houston (ie school has Houston in name but not address)\n",
    "schools_df = schools_df[schools_df.City =='Houston']\n",
    "schools_df.tail()\n",
    "#quick visualization of data\n",
    "#schools_df_plot = schools_df.groupby('Zip').mean()\n",
    "#schools_df_plot.hist()"
   ]
  },
  {
   "cell_type": "code",
   "execution_count": 250,
   "metadata": {},
   "outputs": [
    {
     "name": "stdout",
     "output_type": "stream",
     "text": [
      "['48201430600', '48201430400', '48201450100', '48201450200', '48201451601', '48201411400', '48201412400', 'null', 'null', '48201520700', '48201421300', '48201432001', '48201332900', 'null', '48201432600', '48201340203', '48201430600', '48201430300', '48201510200', '48201511302', '48201420700', '48201531100', '48201320200', '48201422000', '48201412200', '48201413000', '48201410200', '48201431501', 'null', '48201332900', '48201421300', '48201421300', '48201421102', '48201552400', '48201350100', '48201334001', '48201532300', '48201541201', '48201540100', '48201220600', '48201221200', '48201311100', '48201510400', '48201421700', '48201310300', '48201420800', '48201422701', '48201433202', '48201221300', 'null', '48201541602', 'null', '48201333800', '48201311300', '48201541300', '48201432001', '48201221600', 'null', '48201451401', '48201534203', '48201313400', '48201340400', '48201540100', 'null', '48201212300', '48201452500', '48201451902', '48201340800', 'null', '48201520700', 'null', '48201552102', '48201552601', '48201551703', '48201554302', '48201541203', '48201541601', '48201233500', '48201211300', '48201431302', 'null', '48201332600', '48201533300', '48201411900', '48201420300', '48201510300', '48201330302', '48201310800', '48201311600', '48201413202', 'null', 'null', '48201333300', '48201432400', '48201421300', 'null', '48201550302', '48201453402', 'null', '48201540100', 'null', '48201421102', '48201541900', '48201541500', '48201312100', '48201533400', '48201222402', '48201222800', '48201454100', '48201340302', '48201340500', '48201334003', '48201350200', 'null', '48201232401', '48201450600', '48201553001', '48201551100', 'null', '48201551800', '48201552700', '48201552800', '48201540901', '48201233200', '48201233003', '48201233300', '48201233300', '48201232402', '48201440100', '48201520500', '48201313600', '48201531000', '48201310700', '48201210600', '48201312600', '48201510800', '48201321700', '48201432701', '48201422600', '48201220200', '48201310100', '48201511002', '48201311500', '48201310900', '48201311500', 'null', 'null', 'null', '48201431202', 'null', 'null', 'null', '48157672701', 'null', 'null', 'null', '48201252302', 'null', '48201421300', 'null', '48201550900', '48201421102', '48201222503', '48201232100', '48201223002', '48201533802', '48201550800', '48201240400', '48201452600', '48201340700', '48201252200', 'null', 'null', 'null', '48201450300', '48201520602', '48201521300', '48201550302', '48201553100', '48201541602', '48201534100', '48201552001', 'null', '48201541100', '48201551701', '48201541400', '48201534202', '48157670200', '48157672601', '48157672400', '48201233103', '48201233101', '48201232900', '48201233002', '48201220300', 'null', '48201220700', '48201220800', '48201421700', '48201310900', '48201511600', '48201421101', '48201530900', '48201211900', '48201432500', '48201330800', '48201333600', '48201332900', '48201332600', '48201311400', '48201220400', '48201530500', '48201333500', '48201413300', '48201333800', '48201232600', '48201313300', '48201212500', '48201222000', '48201211900', '48201450802', '48201313800', 'null', '48201310300', '48201423302', '48201541900', '48201532600', '48201230700', '48201452201', '48201421900', 'null', '48201433300', '48201314400', 'null', '48201332600', '48201550601', '48201551500', '48201422402', '48201420500', '48201330303', '48201550900', '48201420500', '48201533901', '48201221600', '48201532502', '48201230500', '48201533801', '48201452400', '48201453402', '48201451901', '48201454302', '48201100000', '48201321000', '48201421300', '48201232302', '48201521300', 'null', '48201522201', '48201543200', '48201450300', '48201550401', '48201551600', '48201540602', '48157672602', 'null', '48201311600', '48201310900', '48201422100', '48201332000', '48201320602', '48201310500', '48201530300', '48201221000', '48201422500', '48201311000', '48201511500', 'null', '48201334100', '48201211200', '48201211200', '48201312900', '48201211500', '48201210800', '48201212300', '48201452000', '48201421700', '48201540502', '48201534002', '48201551200', '48201551000', '48201421300', '48201421300', '48201222700', 'null', '48201550302', '48201232302', '48201531600', '48201320100', '48201240501', '48201550200', '48201422900', '48201240701', 'null', '48201533200', '48201232702', 'null', 'null', '48201420500', '48201533100', '48201532001', '48201222100', '48201533801', '48201222300', '48201240400', '48201533500', '48201222501', '48201453000', '48201453602', '48201452700', '48201453502', '48201453100', '48201452500', '48201453403', '48201453700', '48201452600', '48201453900', '48201433100', '48201350500', '48201320900', '48201321100', '48201333300', '48201100000', '48201520300', '48201522100', '48201521900', '48201521300', '48201522402', '48201553200', '48201521700', '48157670700', '48201221000', '48201211500', '48201332400', '48201330900', '48201221700', '48201312400', '48201221500', '48201330303', '48201330400', '48201233300', '48201313400', '48201230200', '48201331500', '48201210500', '48201511301', '48201332400', '48201330500', '48201221400', '48201330600', '48201432500', '48201331300', '48201320500', '48201420200', '48201313200', '48201531200', '48201331100', '48201531300', '48201410100', '48201100000', '48201450500', '48201533000', '48201230900', '48201232000', '48201432600', '48201333300', '48201532001', '48201454100', 'null', 'null', '48201330400', '48201532800', '48201421102', '48201232301', '48201232302', '48201432702', '48201433003', '48201520500', '48201331900', 'null', '48201222700', '48201533500', '48201533100', 'null', '48201433600', '48201522402', '48201521100', '48201522302', '48201520400', '48201550601', '48157670101', '48201432600', '48201421202', '48201451300', '48201422800', '48201211400', 'null', '48201331601', '48201211100', 'null', '48201332200', '48201211500', '48201531600', '48201530800', '48201210500', '48201423302', '48201231000', '48201453402', '48201453200', '48201230400', '48201452500', '48201432400', '48201530800', '48201331400']\n"
     ]
    }
   ],
   "source": [
    "###BLOCK COMMENTED OUT BECAUSE IT TAKES APPROX 30 MINUTES TO RUN###\n",
    "#Change format of addresses so we can plug into url\n",
    "school_street_list_new = schools_df.Street.to_list()\n",
    "\n",
    "formatted_address = []\n",
    "for i in school_street_list_new:\n",
    "    formatted = i.replace(' ','+')\n",
    "    formatted_address.append(formatted)\n",
    "\n",
    "count=0\n",
    "fips_list = []\n",
    "\n",
    "for i in formatted_address:\n",
    "    street_url = formatted_address[count]\n",
    "    fips_url=f\"https://geocoding.geo.census.gov/geocoder/geographies/address?street={street_url}&city=Houston&state=Tx&benchmark=Public_AR_Census2010&vintage=Census2010_Census2010&layers=14&format=json\"\n",
    "    fips_req = requests.get(fips_url)\n",
    "    time.sleep(1)\n",
    "    fips_json = json.loads(fips_req.text)\n",
    "    \n",
    "    try:\n",
    "        fips_list.append([fips_json][0]['result']['addressMatches'][0]['geographies']['Census Blocks'][0]['GEOID'][:-4])\n",
    "    except Exception:\n",
    "        fips_list.append('null')\n",
    "    count +=1\n",
    "    \n",
    "\n",
    "#print (json.dumps(fips_json, indent=4))\n",
    "\n",
    "print(fips_list)\n",
    "\n"
   ]
  },
  {
   "cell_type": "code",
   "execution_count": 245,
   "metadata": {},
   "outputs": [
    {
     "data": {
      "text/plain": [
       "(423, 6)"
      ]
     },
     "execution_count": 245,
     "metadata": {},
     "output_type": "execute_result"
    }
   ],
   "source": [
    "# fips_list = pd.Series(fips_list)\n",
    "# schools_df['FIPS'] = fips_list\n",
    "# schools_df.shape\n",
    "# # #need to get new list of addresses from the schools_df and use that to get FIPS.  otherwise won't match.\n"
   ]
  },
  {
   "cell_type": "code",
   "execution_count": 239,
   "metadata": {},
   "outputs": [
    {
     "ename": "KeyError",
     "evalue": "'FIPS'",
     "output_type": "error",
     "traceback": [
      "\u001b[1;31m---------------------------------------------------------------------------\u001b[0m",
      "\u001b[1;31mKeyError\u001b[0m                                  Traceback (most recent call last)",
      "\u001b[1;32m~\\Anaconda3\\lib\\site-packages\\pandas\\core\\indexes\\base.py\u001b[0m in \u001b[0;36mget_loc\u001b[1;34m(self, key, method, tolerance)\u001b[0m\n\u001b[0;32m   2656\u001b[0m             \u001b[1;32mtry\u001b[0m\u001b[1;33m:\u001b[0m\u001b[1;33m\u001b[0m\u001b[1;33m\u001b[0m\u001b[0m\n\u001b[1;32m-> 2657\u001b[1;33m                 \u001b[1;32mreturn\u001b[0m \u001b[0mself\u001b[0m\u001b[1;33m.\u001b[0m\u001b[0m_engine\u001b[0m\u001b[1;33m.\u001b[0m\u001b[0mget_loc\u001b[0m\u001b[1;33m(\u001b[0m\u001b[0mkey\u001b[0m\u001b[1;33m)\u001b[0m\u001b[1;33m\u001b[0m\u001b[1;33m\u001b[0m\u001b[0m\n\u001b[0m\u001b[0;32m   2658\u001b[0m             \u001b[1;32mexcept\u001b[0m \u001b[0mKeyError\u001b[0m\u001b[1;33m:\u001b[0m\u001b[1;33m\u001b[0m\u001b[1;33m\u001b[0m\u001b[0m\n",
      "\u001b[1;32mpandas/_libs/index.pyx\u001b[0m in \u001b[0;36mpandas._libs.index.IndexEngine.get_loc\u001b[1;34m()\u001b[0m\n",
      "\u001b[1;32mpandas/_libs/index.pyx\u001b[0m in \u001b[0;36mpandas._libs.index.IndexEngine.get_loc\u001b[1;34m()\u001b[0m\n",
      "\u001b[1;32mpandas/_libs/hashtable_class_helper.pxi\u001b[0m in \u001b[0;36mpandas._libs.hashtable.PyObjectHashTable.get_item\u001b[1;34m()\u001b[0m\n",
      "\u001b[1;32mpandas/_libs/hashtable_class_helper.pxi\u001b[0m in \u001b[0;36mpandas._libs.hashtable.PyObjectHashTable.get_item\u001b[1;34m()\u001b[0m\n",
      "\u001b[1;31mKeyError\u001b[0m: 'FIPS'",
      "\nDuring handling of the above exception, another exception occurred:\n",
      "\u001b[1;31mKeyError\u001b[0m                                  Traceback (most recent call last)",
      "\u001b[1;32m<ipython-input-239-b947ad6b9b6f>\u001b[0m in \u001b[0;36m<module>\u001b[1;34m\u001b[0m\n\u001b[1;32m----> 1\u001b[1;33m \u001b[0mschools_df\u001b[0m \u001b[1;33m=\u001b[0m \u001b[0mschools_df\u001b[0m\u001b[1;33m.\u001b[0m\u001b[0mset_index\u001b[0m\u001b[1;33m(\u001b[0m\u001b[1;34m'FIPS'\u001b[0m\u001b[1;33m)\u001b[0m\u001b[1;33m\u001b[0m\u001b[1;33m\u001b[0m\u001b[0m\n\u001b[0m\u001b[0;32m      2\u001b[0m \u001b[0mschools_df\u001b[0m\u001b[1;33m\u001b[0m\u001b[1;33m\u001b[0m\u001b[0m\n",
      "\u001b[1;32m~\\Anaconda3\\lib\\site-packages\\pandas\\core\\frame.py\u001b[0m in \u001b[0;36mset_index\u001b[1;34m(self, keys, drop, append, inplace, verify_integrity)\u001b[0m\n\u001b[0;32m   4176\u001b[0m                 \u001b[0mnames\u001b[0m\u001b[1;33m.\u001b[0m\u001b[0mappend\u001b[0m\u001b[1;33m(\u001b[0m\u001b[1;32mNone\u001b[0m\u001b[1;33m)\u001b[0m\u001b[1;33m\u001b[0m\u001b[1;33m\u001b[0m\u001b[0m\n\u001b[0;32m   4177\u001b[0m             \u001b[1;32melse\u001b[0m\u001b[1;33m:\u001b[0m\u001b[1;33m\u001b[0m\u001b[1;33m\u001b[0m\u001b[0m\n\u001b[1;32m-> 4178\u001b[1;33m                 \u001b[0mlevel\u001b[0m \u001b[1;33m=\u001b[0m \u001b[0mframe\u001b[0m\u001b[1;33m[\u001b[0m\u001b[0mcol\u001b[0m\u001b[1;33m]\u001b[0m\u001b[1;33m.\u001b[0m\u001b[0m_values\u001b[0m\u001b[1;33m\u001b[0m\u001b[1;33m\u001b[0m\u001b[0m\n\u001b[0m\u001b[0;32m   4179\u001b[0m                 \u001b[0mnames\u001b[0m\u001b[1;33m.\u001b[0m\u001b[0mappend\u001b[0m\u001b[1;33m(\u001b[0m\u001b[0mcol\u001b[0m\u001b[1;33m)\u001b[0m\u001b[1;33m\u001b[0m\u001b[1;33m\u001b[0m\u001b[0m\n\u001b[0;32m   4180\u001b[0m                 \u001b[1;32mif\u001b[0m \u001b[0mdrop\u001b[0m\u001b[1;33m:\u001b[0m\u001b[1;33m\u001b[0m\u001b[1;33m\u001b[0m\u001b[0m\n",
      "\u001b[1;32m~\\Anaconda3\\lib\\site-packages\\pandas\\core\\frame.py\u001b[0m in \u001b[0;36m__getitem__\u001b[1;34m(self, key)\u001b[0m\n\u001b[0;32m   2925\u001b[0m             \u001b[1;32mif\u001b[0m \u001b[0mself\u001b[0m\u001b[1;33m.\u001b[0m\u001b[0mcolumns\u001b[0m\u001b[1;33m.\u001b[0m\u001b[0mnlevels\u001b[0m \u001b[1;33m>\u001b[0m \u001b[1;36m1\u001b[0m\u001b[1;33m:\u001b[0m\u001b[1;33m\u001b[0m\u001b[1;33m\u001b[0m\u001b[0m\n\u001b[0;32m   2926\u001b[0m                 \u001b[1;32mreturn\u001b[0m \u001b[0mself\u001b[0m\u001b[1;33m.\u001b[0m\u001b[0m_getitem_multilevel\u001b[0m\u001b[1;33m(\u001b[0m\u001b[0mkey\u001b[0m\u001b[1;33m)\u001b[0m\u001b[1;33m\u001b[0m\u001b[1;33m\u001b[0m\u001b[0m\n\u001b[1;32m-> 2927\u001b[1;33m             \u001b[0mindexer\u001b[0m \u001b[1;33m=\u001b[0m \u001b[0mself\u001b[0m\u001b[1;33m.\u001b[0m\u001b[0mcolumns\u001b[0m\u001b[1;33m.\u001b[0m\u001b[0mget_loc\u001b[0m\u001b[1;33m(\u001b[0m\u001b[0mkey\u001b[0m\u001b[1;33m)\u001b[0m\u001b[1;33m\u001b[0m\u001b[1;33m\u001b[0m\u001b[0m\n\u001b[0m\u001b[0;32m   2928\u001b[0m             \u001b[1;32mif\u001b[0m \u001b[0mis_integer\u001b[0m\u001b[1;33m(\u001b[0m\u001b[0mindexer\u001b[0m\u001b[1;33m)\u001b[0m\u001b[1;33m:\u001b[0m\u001b[1;33m\u001b[0m\u001b[1;33m\u001b[0m\u001b[0m\n\u001b[0;32m   2929\u001b[0m                 \u001b[0mindexer\u001b[0m \u001b[1;33m=\u001b[0m \u001b[1;33m[\u001b[0m\u001b[0mindexer\u001b[0m\u001b[1;33m]\u001b[0m\u001b[1;33m\u001b[0m\u001b[1;33m\u001b[0m\u001b[0m\n",
      "\u001b[1;32m~\\Anaconda3\\lib\\site-packages\\pandas\\core\\indexes\\base.py\u001b[0m in \u001b[0;36mget_loc\u001b[1;34m(self, key, method, tolerance)\u001b[0m\n\u001b[0;32m   2657\u001b[0m                 \u001b[1;32mreturn\u001b[0m \u001b[0mself\u001b[0m\u001b[1;33m.\u001b[0m\u001b[0m_engine\u001b[0m\u001b[1;33m.\u001b[0m\u001b[0mget_loc\u001b[0m\u001b[1;33m(\u001b[0m\u001b[0mkey\u001b[0m\u001b[1;33m)\u001b[0m\u001b[1;33m\u001b[0m\u001b[1;33m\u001b[0m\u001b[0m\n\u001b[0;32m   2658\u001b[0m             \u001b[1;32mexcept\u001b[0m \u001b[0mKeyError\u001b[0m\u001b[1;33m:\u001b[0m\u001b[1;33m\u001b[0m\u001b[1;33m\u001b[0m\u001b[0m\n\u001b[1;32m-> 2659\u001b[1;33m                 \u001b[1;32mreturn\u001b[0m \u001b[0mself\u001b[0m\u001b[1;33m.\u001b[0m\u001b[0m_engine\u001b[0m\u001b[1;33m.\u001b[0m\u001b[0mget_loc\u001b[0m\u001b[1;33m(\u001b[0m\u001b[0mself\u001b[0m\u001b[1;33m.\u001b[0m\u001b[0m_maybe_cast_indexer\u001b[0m\u001b[1;33m(\u001b[0m\u001b[0mkey\u001b[0m\u001b[1;33m)\u001b[0m\u001b[1;33m)\u001b[0m\u001b[1;33m\u001b[0m\u001b[1;33m\u001b[0m\u001b[0m\n\u001b[0m\u001b[0;32m   2660\u001b[0m         \u001b[0mindexer\u001b[0m \u001b[1;33m=\u001b[0m \u001b[0mself\u001b[0m\u001b[1;33m.\u001b[0m\u001b[0mget_indexer\u001b[0m\u001b[1;33m(\u001b[0m\u001b[1;33m[\u001b[0m\u001b[0mkey\u001b[0m\u001b[1;33m]\u001b[0m\u001b[1;33m,\u001b[0m \u001b[0mmethod\u001b[0m\u001b[1;33m=\u001b[0m\u001b[0mmethod\u001b[0m\u001b[1;33m,\u001b[0m \u001b[0mtolerance\u001b[0m\u001b[1;33m=\u001b[0m\u001b[0mtolerance\u001b[0m\u001b[1;33m)\u001b[0m\u001b[1;33m\u001b[0m\u001b[1;33m\u001b[0m\u001b[0m\n\u001b[0;32m   2661\u001b[0m         \u001b[1;32mif\u001b[0m \u001b[0mindexer\u001b[0m\u001b[1;33m.\u001b[0m\u001b[0mndim\u001b[0m \u001b[1;33m>\u001b[0m \u001b[1;36m1\u001b[0m \u001b[1;32mor\u001b[0m \u001b[0mindexer\u001b[0m\u001b[1;33m.\u001b[0m\u001b[0msize\u001b[0m \u001b[1;33m>\u001b[0m \u001b[1;36m1\u001b[0m\u001b[1;33m:\u001b[0m\u001b[1;33m\u001b[0m\u001b[1;33m\u001b[0m\u001b[0m\n",
      "\u001b[1;32mpandas/_libs/index.pyx\u001b[0m in \u001b[0;36mpandas._libs.index.IndexEngine.get_loc\u001b[1;34m()\u001b[0m\n",
      "\u001b[1;32mpandas/_libs/index.pyx\u001b[0m in \u001b[0;36mpandas._libs.index.IndexEngine.get_loc\u001b[1;34m()\u001b[0m\n",
      "\u001b[1;32mpandas/_libs/hashtable_class_helper.pxi\u001b[0m in \u001b[0;36mpandas._libs.hashtable.PyObjectHashTable.get_item\u001b[1;34m()\u001b[0m\n",
      "\u001b[1;32mpandas/_libs/hashtable_class_helper.pxi\u001b[0m in \u001b[0;36mpandas._libs.hashtable.PyObjectHashTable.get_item\u001b[1;34m()\u001b[0m\n",
      "\u001b[1;31mKeyError\u001b[0m: 'FIPS'"
     ]
    }
   ],
   "source": []
  },
  {
   "cell_type": "code",
   "execution_count": 249,
   "metadata": {},
   "outputs": [
    {
     "ename": "KeyError",
     "evalue": "\"['FIPS'] not found in axis\"",
     "output_type": "error",
     "traceback": [
      "\u001b[1;31m---------------------------------------------------------------------------\u001b[0m",
      "\u001b[1;31mKeyError\u001b[0m                                  Traceback (most recent call last)",
      "\u001b[1;32m<ipython-input-249-a4067196e541>\u001b[0m in \u001b[0;36m<module>\u001b[1;34m\u001b[0m\n\u001b[1;32m----> 1\u001b[1;33m \u001b[0mschools_df\u001b[0m \u001b[1;33m=\u001b[0m \u001b[0mschools_df\u001b[0m\u001b[1;33m.\u001b[0m\u001b[0mdrop\u001b[0m\u001b[1;33m(\u001b[0m\u001b[0mcolumns\u001b[0m\u001b[1;33m=\u001b[0m\u001b[1;33m[\u001b[0m\u001b[1;34m'FIPS'\u001b[0m\u001b[1;33m]\u001b[0m\u001b[1;33m)\u001b[0m\u001b[1;33m\u001b[0m\u001b[1;33m\u001b[0m\u001b[0m\n\u001b[0m\u001b[0;32m      2\u001b[0m \u001b[0mschools_df\u001b[0m \u001b[1;33m=\u001b[0m \u001b[0mschools_df\u001b[0m\u001b[1;33m.\u001b[0m\u001b[0mreset_index\u001b[0m\u001b[1;33m(\u001b[0m\u001b[1;33m)\u001b[0m\u001b[1;33m\u001b[0m\u001b[1;33m\u001b[0m\u001b[0m\n\u001b[0;32m      3\u001b[0m \u001b[0mschools_df\u001b[0m\u001b[1;33m.\u001b[0m\u001b[0mhead\u001b[0m\u001b[1;33m(\u001b[0m\u001b[1;33m)\u001b[0m\u001b[1;33m\u001b[0m\u001b[1;33m\u001b[0m\u001b[0m\n",
      "\u001b[1;32m~\\Anaconda3\\lib\\site-packages\\pandas\\core\\frame.py\u001b[0m in \u001b[0;36mdrop\u001b[1;34m(self, labels, axis, index, columns, level, inplace, errors)\u001b[0m\n\u001b[0;32m   3938\u001b[0m                                            \u001b[0mindex\u001b[0m\u001b[1;33m=\u001b[0m\u001b[0mindex\u001b[0m\u001b[1;33m,\u001b[0m \u001b[0mcolumns\u001b[0m\u001b[1;33m=\u001b[0m\u001b[0mcolumns\u001b[0m\u001b[1;33m,\u001b[0m\u001b[1;33m\u001b[0m\u001b[1;33m\u001b[0m\u001b[0m\n\u001b[0;32m   3939\u001b[0m                                            \u001b[0mlevel\u001b[0m\u001b[1;33m=\u001b[0m\u001b[0mlevel\u001b[0m\u001b[1;33m,\u001b[0m \u001b[0minplace\u001b[0m\u001b[1;33m=\u001b[0m\u001b[0minplace\u001b[0m\u001b[1;33m,\u001b[0m\u001b[1;33m\u001b[0m\u001b[1;33m\u001b[0m\u001b[0m\n\u001b[1;32m-> 3940\u001b[1;33m                                            errors=errors)\n\u001b[0m\u001b[0;32m   3941\u001b[0m \u001b[1;33m\u001b[0m\u001b[0m\n\u001b[0;32m   3942\u001b[0m     @rewrite_axis_style_signature('mapper', [('copy', True),\n",
      "\u001b[1;32m~\\Anaconda3\\lib\\site-packages\\pandas\\core\\generic.py\u001b[0m in \u001b[0;36mdrop\u001b[1;34m(self, labels, axis, index, columns, level, inplace, errors)\u001b[0m\n\u001b[0;32m   3778\u001b[0m         \u001b[1;32mfor\u001b[0m \u001b[0maxis\u001b[0m\u001b[1;33m,\u001b[0m \u001b[0mlabels\u001b[0m \u001b[1;32min\u001b[0m \u001b[0maxes\u001b[0m\u001b[1;33m.\u001b[0m\u001b[0mitems\u001b[0m\u001b[1;33m(\u001b[0m\u001b[1;33m)\u001b[0m\u001b[1;33m:\u001b[0m\u001b[1;33m\u001b[0m\u001b[1;33m\u001b[0m\u001b[0m\n\u001b[0;32m   3779\u001b[0m             \u001b[1;32mif\u001b[0m \u001b[0mlabels\u001b[0m \u001b[1;32mis\u001b[0m \u001b[1;32mnot\u001b[0m \u001b[1;32mNone\u001b[0m\u001b[1;33m:\u001b[0m\u001b[1;33m\u001b[0m\u001b[1;33m\u001b[0m\u001b[0m\n\u001b[1;32m-> 3780\u001b[1;33m                 \u001b[0mobj\u001b[0m \u001b[1;33m=\u001b[0m \u001b[0mobj\u001b[0m\u001b[1;33m.\u001b[0m\u001b[0m_drop_axis\u001b[0m\u001b[1;33m(\u001b[0m\u001b[0mlabels\u001b[0m\u001b[1;33m,\u001b[0m \u001b[0maxis\u001b[0m\u001b[1;33m,\u001b[0m \u001b[0mlevel\u001b[0m\u001b[1;33m=\u001b[0m\u001b[0mlevel\u001b[0m\u001b[1;33m,\u001b[0m \u001b[0merrors\u001b[0m\u001b[1;33m=\u001b[0m\u001b[0merrors\u001b[0m\u001b[1;33m)\u001b[0m\u001b[1;33m\u001b[0m\u001b[1;33m\u001b[0m\u001b[0m\n\u001b[0m\u001b[0;32m   3781\u001b[0m \u001b[1;33m\u001b[0m\u001b[0m\n\u001b[0;32m   3782\u001b[0m         \u001b[1;32mif\u001b[0m \u001b[0minplace\u001b[0m\u001b[1;33m:\u001b[0m\u001b[1;33m\u001b[0m\u001b[1;33m\u001b[0m\u001b[0m\n",
      "\u001b[1;32m~\\Anaconda3\\lib\\site-packages\\pandas\\core\\generic.py\u001b[0m in \u001b[0;36m_drop_axis\u001b[1;34m(self, labels, axis, level, errors)\u001b[0m\n\u001b[0;32m   3810\u001b[0m                 \u001b[0mnew_axis\u001b[0m \u001b[1;33m=\u001b[0m \u001b[0maxis\u001b[0m\u001b[1;33m.\u001b[0m\u001b[0mdrop\u001b[0m\u001b[1;33m(\u001b[0m\u001b[0mlabels\u001b[0m\u001b[1;33m,\u001b[0m \u001b[0mlevel\u001b[0m\u001b[1;33m=\u001b[0m\u001b[0mlevel\u001b[0m\u001b[1;33m,\u001b[0m \u001b[0merrors\u001b[0m\u001b[1;33m=\u001b[0m\u001b[0merrors\u001b[0m\u001b[1;33m)\u001b[0m\u001b[1;33m\u001b[0m\u001b[1;33m\u001b[0m\u001b[0m\n\u001b[0;32m   3811\u001b[0m             \u001b[1;32melse\u001b[0m\u001b[1;33m:\u001b[0m\u001b[1;33m\u001b[0m\u001b[1;33m\u001b[0m\u001b[0m\n\u001b[1;32m-> 3812\u001b[1;33m                 \u001b[0mnew_axis\u001b[0m \u001b[1;33m=\u001b[0m \u001b[0maxis\u001b[0m\u001b[1;33m.\u001b[0m\u001b[0mdrop\u001b[0m\u001b[1;33m(\u001b[0m\u001b[0mlabels\u001b[0m\u001b[1;33m,\u001b[0m \u001b[0merrors\u001b[0m\u001b[1;33m=\u001b[0m\u001b[0merrors\u001b[0m\u001b[1;33m)\u001b[0m\u001b[1;33m\u001b[0m\u001b[1;33m\u001b[0m\u001b[0m\n\u001b[0m\u001b[0;32m   3813\u001b[0m             \u001b[0mresult\u001b[0m \u001b[1;33m=\u001b[0m \u001b[0mself\u001b[0m\u001b[1;33m.\u001b[0m\u001b[0mreindex\u001b[0m\u001b[1;33m(\u001b[0m\u001b[1;33m**\u001b[0m\u001b[1;33m{\u001b[0m\u001b[0maxis_name\u001b[0m\u001b[1;33m:\u001b[0m \u001b[0mnew_axis\u001b[0m\u001b[1;33m}\u001b[0m\u001b[1;33m)\u001b[0m\u001b[1;33m\u001b[0m\u001b[1;33m\u001b[0m\u001b[0m\n\u001b[0;32m   3814\u001b[0m \u001b[1;33m\u001b[0m\u001b[0m\n",
      "\u001b[1;32m~\\Anaconda3\\lib\\site-packages\\pandas\\core\\indexes\\base.py\u001b[0m in \u001b[0;36mdrop\u001b[1;34m(self, labels, errors)\u001b[0m\n\u001b[0;32m   4963\u001b[0m             \u001b[1;32mif\u001b[0m \u001b[0merrors\u001b[0m \u001b[1;33m!=\u001b[0m \u001b[1;34m'ignore'\u001b[0m\u001b[1;33m:\u001b[0m\u001b[1;33m\u001b[0m\u001b[1;33m\u001b[0m\u001b[0m\n\u001b[0;32m   4964\u001b[0m                 raise KeyError(\n\u001b[1;32m-> 4965\u001b[1;33m                     '{} not found in axis'.format(labels[mask]))\n\u001b[0m\u001b[0;32m   4966\u001b[0m             \u001b[0mindexer\u001b[0m \u001b[1;33m=\u001b[0m \u001b[0mindexer\u001b[0m\u001b[1;33m[\u001b[0m\u001b[1;33m~\u001b[0m\u001b[0mmask\u001b[0m\u001b[1;33m]\u001b[0m\u001b[1;33m\u001b[0m\u001b[1;33m\u001b[0m\u001b[0m\n\u001b[0;32m   4967\u001b[0m         \u001b[1;32mreturn\u001b[0m \u001b[0mself\u001b[0m\u001b[1;33m.\u001b[0m\u001b[0mdelete\u001b[0m\u001b[1;33m(\u001b[0m\u001b[0mindexer\u001b[0m\u001b[1;33m)\u001b[0m\u001b[1;33m\u001b[0m\u001b[1;33m\u001b[0m\u001b[0m\n",
      "\u001b[1;31mKeyError\u001b[0m: \"['FIPS'] not found in axis\""
     ]
    }
   ],
   "source": []
  },
  {
   "cell_type": "code",
   "execution_count": 246,
   "metadata": {},
   "outputs": [
    {
     "name": "stdout",
     "output_type": "stream",
     "text": [
      "0      48201430600\n",
      "1      48201430400\n",
      "2      48201450100\n",
      "3      48201450200\n",
      "4      48201451601\n",
      "5      48201411400\n",
      "6      48201412400\n",
      "7             null\n",
      "8             null\n",
      "9      48201520700\n",
      "10     48201421300\n",
      "11     48201432001\n",
      "12     48201332900\n",
      "13            null\n",
      "14     48201432600\n",
      "15     48201340203\n",
      "16     48201430600\n",
      "17     48201430300\n",
      "18     48201510200\n",
      "19     48201511302\n",
      "20     48201420700\n",
      "21     48201531100\n",
      "22     48201320200\n",
      "23     48201422000\n",
      "24     48201412200\n",
      "25     48201413000\n",
      "26     48201410200\n",
      "27     48201431501\n",
      "28            null\n",
      "29     48201332900\n",
      "          ...     \n",
      "393    48201433600\n",
      "394    48201522402\n",
      "395    48201521100\n",
      "396    48201522302\n",
      "397    48201520400\n",
      "398    48201550601\n",
      "399    48157670101\n",
      "400    48201432600\n",
      "401    48201421202\n",
      "402    48201451300\n",
      "403    48201422800\n",
      "404    48201211400\n",
      "405           null\n",
      "406    48201331601\n",
      "407    48201211100\n",
      "408           null\n",
      "409    48201332200\n",
      "410    48201211500\n",
      "411    48201531600\n",
      "412    48201530800\n",
      "413    48201210500\n",
      "414    48201423302\n",
      "415    48201231000\n",
      "416    48201453402\n",
      "417    48201453200\n",
      "418    48201230400\n",
      "419    48201452500\n",
      "420    48201432400\n",
      "421    48201530800\n",
      "422    48201331400\n",
      "Length: 423, dtype: object\n"
     ]
    }
   ],
   "source": []
  },
  {
   "cell_type": "code",
   "execution_count": null,
   "metadata": {},
   "outputs": [],
   "source": []
  }
 ],
 "metadata": {
  "kernelspec": {
   "display_name": "Python 3",
   "language": "python",
   "name": "python3"
  },
  "language_info": {
   "codemirror_mode": {
    "name": "ipython",
    "version": 3
   },
   "file_extension": ".py",
   "mimetype": "text/x-python",
   "name": "python",
   "nbconvert_exporter": "python",
   "pygments_lexer": "ipython3",
   "version": "3.7.3"
  }
 },
 "nbformat": 4,
 "nbformat_minor": 4
}
