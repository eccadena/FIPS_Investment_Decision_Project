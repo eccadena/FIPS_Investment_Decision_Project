{
 "cells": [
  {
   "cell_type": "code",
   "execution_count": 7,
   "metadata": {},
   "outputs": [],
   "source": [
    "import requests\n",
    "from bs4 import BeautifulSoup as bs\n",
    "from selenium import webdriver\n",
    "import time\n",
    "import pandas as pd"
   ]
  },
  {
   "cell_type": "code",
   "execution_count": 11,
   "metadata": {},
   "outputs": [],
   "source": [
    "#need to install the chromedriver.exe in the Anaconda3/scripts folder or you will get a path error\n",
    "driver = webdriver.Chrome()\n",
    "\n",
    "#fetch url with selenium using chrome looping through to page 18, after that there are no school ratings\n",
    "school_name_list = []\n",
    "school_street_list = []\n",
    "school_zip_list = []\n",
    "school_city_list = []\n",
    "school_rating_list = []\n",
    "page_num = 1\n",
    "\n",
    "while page_num < 19:\n",
    "#setting url to get school ratings table that we will scrape.  Will iterate using page_num\n",
    "    url = f\"https://www.greatschools.org/search/search.page?gradeLevels%5B%5D=e&q=houston%20tx&sort=rating&view=table&page={page_num}\"\n",
    "    driver.get(url)\n",
    "    \n",
    "#using sleep to ensure page is fully loaded each loop before attempting to scrape    \n",
    "    time.sleep(8)\n",
    "\n",
    "#returning selenium html and then switching to beautiful soup\n",
    "    innerHTML = driver.execute_script(\"return document.body.innerHTML\")\n",
    "    \n",
    "    soup = bs(innerHTML,'lxml')\n",
    "    \n",
    "#limiting to 25 because the page is duplicating the html then hiding one set.  Was getting 50 out of 25 results\n",
    "\n",
    "    school_name = soup.find_all('a', class_ ='name',limit=25)\n",
    "    school_street_zip = soup.find_all('div', class_ ='address',limit=25)\n",
    "    school_rating = soup.find_all('div', class_ ='circle-rating--small',limit=25)\n",
    "    \n",
    "#looping through the above to get text from each element and append to lists\n",
    "\n",
    "    for name in school_name:\n",
    "        name = name.text\n",
    "        school_name_list.append(name)\n",
    "        \n",
    "    for street in school_street_zip:\n",
    "        street = street.text\n",
    "        school_street_list.append(street[:-20])\n",
    "        \n",
    "    for zipcode in school_street_zip:\n",
    "        zipcode = zipcode.text\n",
    "        school_zip_list.append(zipcode[-5:])\n",
    "    \n",
    "    for city in school_street_zip:\n",
    "        city = city.text\n",
    "        school_city_list.append(city[-18:-11])\n",
    "        \n",
    "    for rating in school_rating:\n",
    "        rating = rating.text\n",
    "        school_rating_list.append(rating[:-3])\n",
    "    \n",
    "    page_num += 1\n",
    "#     #giving time for page to fully load before scraping\n",
    "#     time.sleep(20)\n",
    "#     #get info using find_elements_by_class looping through list created and pulling innerHTML\n",
    "\n",
    "#     #School Name\n",
    "    \n",
    "#     school_name = driver.find_elements_by_class_name('name')\n",
    "#     for name in school_name:\n",
    "#         name = name.get_attribute('innerHTML')\n",
    "#         school_name_list.append(name)\n",
    "\n",
    "#     #School Street\n",
    "\n",
    "#     school_street = driver.find_elements_by_class_name('address')\n",
    "#     for street in school_street:\n",
    "#         street = street.get_attribute('innerHTML')\n",
    "#         school_street_list.append(street[:-20])\n",
    "\n",
    "#     #School Zip\n",
    "    \n",
    "#     school_zip = driver.find_elements_by_class_name('address')\n",
    "#     for zipcode in school_zip:\n",
    "#         zipcode = zipcode.get_attribute('innerHTML')\n",
    "#         school_zip_list.append(zipcode[-5:])\n",
    "\n",
    "#     #School Rating\n",
    "    \n",
    "#     school_rating = driver.find_elements_by_class_name('circle-rating--small')\n",
    "#     for rating in school_rating:\n",
    "#         rating = rating.get_attribute('innerHTML')\n",
    "#         school_rating_list.append(int(rating[:-44]))\n",
    "\n",
    "#       page_num += 1\n",
    "    \n"
   ]
  },
  {
   "cell_type": "code",
   "execution_count": 28,
   "metadata": {},
   "outputs": [
    {
     "name": "stdout",
     "output_type": "stream",
     "text": [
      "450\n"
     ]
    }
   ],
   "source": [
    "# print len to check if scrape worked properly\n",
    "print(len(school_city_list))\n",
    "#,school_street_list,school_zip_list,school_rating_list))"
   ]
  },
  {
   "cell_type": "code",
   "execution_count": null,
   "metadata": {},
   "outputs": [],
   "source": []
  },
  {
   "cell_type": "code",
   "execution_count": 42,
   "metadata": {},
   "outputs": [
    {
     "data": {
      "text/plain": [
       "array([[<matplotlib.axes._subplots.AxesSubplot object at 0x0000027DFD4DF320>]],\n",
       "      dtype=object)"
      ]
     },
     "execution_count": 42,
     "metadata": {},
     "output_type": "execute_result"
    },
    {
     "data": {
      "image/png": "[encoded data removed]",
      "text/plain": [
       "<Figure size 432x288 with 1 Axes>"
      ]
     },
     "metadata": {
      "needs_background": "light"
     },
     "output_type": "display_data"
    }
   ],
   "source": [
    "schools_dict = {'School':pd.Series(school_name_list),'Street':pd.Series(school_street_list),'Zip':pd.Series(school_zip_list),'City':pd.Series(school_city_list),'Rating':pd.Series(school_rating_list).astype(int)}\n",
    "schools_df = pd.DataFrame(schools_dict)\n",
    "#dropping last 6 rows because they did not have ratings\n",
    "schools_df = schools_df[:-6]\n",
    "#remove where city != Houston (ie school has Houston in name but not address)\n",
    "schools_df = schools_df[schools_df.City =='Houston']\n",
    "schools_df_plot = schools_df.groupby('Zip').mean()\n",
    "schools_df_plot.hist()"
   ]
  },
  {
   "cell_type": "code",
   "execution_count": null,
   "metadata": {},
   "outputs": [],
   "source": []
  }
 ],
 "metadata": {
  "kernelspec": {
   "display_name": "Python 3",
   "language": "python",
   "name": "python3"
  },
  "language_info": {
   "codemirror_mode": {
    "name": "ipython",
    "version": 3
   },
   "file_extension": ".py",
   "mimetype": "text/x-python",
   "name": "python",
   "nbconvert_exporter": "python",
   "pygments_lexer": "ipython3",
   "version": "3.7.3"
  }
 },
 "nbformat": 4,
 "nbformat_minor": 4
}
